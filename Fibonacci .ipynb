{
 "cells": [
  {
   "cell_type": "code",
   "execution_count": 12,
   "metadata": {},
   "outputs": [
    {
     "name": "stdout",
     "output_type": "stream",
     "text": [
      "How long do you want the list to be?  88877\n"
     ]
    }
   ],
   "source": [
    "def fib_list():\n",
    "    list = []\n",
    "    num = int(input(\"How long do you want the list to be?  \"))\n",
    "    for i in range(num):\n",
    "        if len(list) <= 1:\n",
    "            list.append(1)\n",
    "        else:\n",
    "            list.append(list[-1] + list[-2])\n",
    "    print(list)        \n",
    "fib_list()"
   ]
  },
  {
   "cell_type": "code",
   "execution_count": null,
   "metadata": {},
   "outputs": [],
   "source": []
  },
  {
   "cell_type": "code",
   "execution_count": null,
   "metadata": {},
   "outputs": [],
   "source": []
  }
 ],
 "metadata": {
  "kernelspec": {
   "display_name": "Python 3",
   "language": "python",
   "name": "python3"
  },
  "language_info": {
   "codemirror_mode": {
    "name": "ipython",
    "version": 3
   },
   "file_extension": ".py",
   "mimetype": "text/x-python",
   "name": "python",
   "nbconvert_exporter": "python",
   "pygments_lexer": "ipython3",
   "version": "3.6.5"
  }
 },
 "nbformat": 4,
 "nbformat_minor": 2
}
