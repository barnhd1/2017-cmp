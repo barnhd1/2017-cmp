{
 "cells": [
  {
   "cell_type": "code",
   "execution_count": 119,
   "metadata": {},
   "outputs": [],
   "source": [
    "import matplotlib.pyplot as pt\n",
    "from math import log, exp\n",
    "\n",
    "#A function that finds the facgorial of the number entered into the parameters\n",
    "def factorial(num):\n",
    "    fact = 1                  #Initialize the factorial variable\n",
    "    for i in range(2, num+1): #Multiplies fact by the numbers 1 through the number entered mius one\n",
    "        fact *= i\n",
    "    \n",
    "    \n",
    "    return fact                #Outputs fact as the ending factorial"
   ]
  },
  {
   "cell_type": "code",
   "execution_count": 47,
   "metadata": {},
   "outputs": [],
   "source": [
    "#Function that calculates the Einstein solids value represented by Omega\n",
    "\n",
    "def omega(N, q):\n",
    "    omega = exp(log(factorial(q + N - 1)) - log((factorial(q) * factorial(N - 1))))\n",
    "    \n",
    "    return omega"
   ]
  },
  {
   "cell_type": "code",
   "execution_count": 69,
   "metadata": {},
   "outputs": [],
   "source": [
    "def omega_total1(A,B):\n",
    "    return A * B"
   ]
  },
  {
   "cell_type": "code",
   "execution_count": 74,
   "metadata": {},
   "outputs": [],
   "source": [
    "def omega_total2(Na, Nb):\n",
    "    q = 100\n",
    "    A = exp(log(factorial(q + Na - 1)) - log((factorial(q) * factorial(Na - 1))))\n",
    "    B = exp(log(factorial(q + Nb - 1)) - log((factorial(q) * factorial(Nb - 1))))\n",
    "    \n",
    "    return A * B"
   ]
  },
  {
   "cell_type": "code",
   "execution_count": 75,
   "metadata": {},
   "outputs": [],
   "source": [
    "def primary_func():\n",
    "    q = int(input(\"Enter the engery of the system as q: \"))\n",
    "    Na = int(input(\"Enter nummber of first number of oscillators Na: \"))\n",
    "    Nb = int(input(\"Enter nummber of second number of oscillators Nb: \"))\n",
    "    omega_a = omega(Na, q)\n",
    "    omega_b = omega(Nb, q)\n",
    "    total = omega_total1(omega_a, omega_b)\n",
    "    print(omega_a)\n",
    "    print(omega_b)\n",
    "    print(total)"
   ]
  },
  {
   "cell_type": "code",
   "execution_count": 143,
   "metadata": {
    "scrolled": true
   },
   "outputs": [
    {
     "name": "stdout",
     "output_type": "stream",
     "text": [
      "Enter the engery of the system as q: 100\n",
      "Enter nummber of first number of oscillators Na: 100\n",
      "Enter nummber of second number of oscillators Nb: 100\n",
      "4.5274257328048713e+58\n",
      "4.5274257328048713e+58\n",
      "2.0497583766063726e+117\n"
     ]
    }
   ],
   "source": [
    "primary_func()"
   ]
  },
  {
   "cell_type": "code",
   "execution_count": 154,
   "metadata": {},
   "outputs": [],
   "source": [
    "def Multiplicity(N,n):\n",
    "    return exp(log(factorial(N)) - log(factorial(n)) - log(factorial(N - n)))"
   ]
  },
  {
   "cell_type": "code",
   "execution_count": 151,
   "metadata": {},
   "outputs": [],
   "source": [
    "def Omega_Plot(num):\n",
    "    Omega_values = []\n",
    "    N_series = range(num + 1)\n",
    "    for i in N_series:\n",
    "        Omega_values.append(omega(i,100)*omega(i* 10,100))\n",
    "    pt.plot(N_series, Omega_values)\n",
    "    pt.title(\"Omega Values\")\n",
    "    pt.xlabel(\"N\")\n",
    "    pt.ylabel(\"$\\Omega(N)$\")\n",
    "        \n",
    "    pt.show"
   ]
  },
  {
   "cell_type": "code",
   "execution_count": 152,
   "metadata": {},
   "outputs": [
    {
     "data": {
      "image/png": "[encoded data removed]",
      "text/plain": [
       "<Figure size 432x288 with 1 Axes>"
      ]
     },
     "metadata": {},
     "output_type": "display_data"
    }
   ],
   "source": [
    "Omega_Plot(40)"
   ]
  },
  {
   "cell_type": "code",
   "execution_count": 156,
   "metadata": {},
   "outputs": [],
   "source": [
    "def Omega_Plot2(num):\n",
    "    Omega_values = []\n",
    "    N_series = range(num + 1)\n",
    "    for i in N_series:\n",
    "        Omega_values.append(Multiplicity(num, i))\n",
    "    pt.plot(N_series, Omega_values)\n",
    "    pt.title(\"Omega Values\")\n",
    "    pt.xlabel(\"N\")\n",
    "    pt.ylabel(\"$\\Omega(N)$\")\n",
    "        \n",
    "    pt.show"
   ]
  },
  {
   "cell_type": "code",
   "execution_count": 161,
   "metadata": {},
   "outputs": [
    {
     "data": {
      "image/png": "[encoded data removed]",
      "text/plain": [
       "<Figure size 432x288 with 1 Axes>"
      ]
     },
     "metadata": {},
     "output_type": "display_data"
    }
   ],
   "source": [
    "Omega_Plot2(10)"
   ]
  },
  {
   "cell_type": "code",
   "execution_count": null,
   "metadata": {},
   "outputs": [],
   "source": []
  },
  {
   "cell_type": "code",
   "execution_count": null,
   "metadata": {},
   "outputs": [],
   "source": []
  },
  {
   "cell_type": "code",
   "execution_count": null,
   "metadata": {},
   "outputs": [],
   "source": []
  }
 ],
 "metadata": {
  "kernelspec": {
   "display_name": "Python 3",
   "language": "python",
   "name": "python3"
  },
  "language_info": {
   "codemirror_mode": {
    "name": "ipython",
    "version": 3
   },
   "file_extension": ".py",
   "mimetype": "text/x-python",
   "name": "python",
   "nbconvert_exporter": "python",
   "pygments_lexer": "ipython3",
   "version": "3.6.5"
  }
 },
 "nbformat": 4,
 "nbformat_minor": 2
}
