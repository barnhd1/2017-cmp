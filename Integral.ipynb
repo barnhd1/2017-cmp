{
 "cells": [
  {
   "cell_type": "code",
   "execution_count": 266,
   "metadata": {},
   "outputs": [],
   "source": [
    "import numpy as np\n",
    "import matplotlib.pyplot as plt\n",
    "import math\n",
    "\n",
    "\n",
    "def Rectangle(start, end, divisions, graph = 1):\n",
    "    f = lambda x: np.exp(-(x**2))\n",
    "    \n",
    "    dx = (end - start) / divisions\n",
    "    xvalues = np.linspace(start, end, divisions)\n",
    "    yvalues = f(xvalues)\n",
    "    \n",
    "    area = []\n",
    "    \n",
    "    for i in range(divisions):\n",
    "        area.append(yvalues[i] * dx)\n",
    "        \n",
    "    total_area = sum(area)\n",
    "\n",
    "    \n",
    "    y2 = np.array([0,0])\n",
    "    \n",
    "    if graph == 1:\n",
    "        x = np.linspace(start,end, 1000)\n",
    "        y = np.exp(-x**(2))\n",
    "        plt.plot(x, y,'red', lw = 5)\n",
    "        plt.bar(xvalues+dx/2, yvalues, dx, edgecolor ='blue')\n",
    "        plt.title(\"Integral based on Rectangles\")\n",
    "        \n",
    "    print(\"Area = \", total_area)"
   ]
  },
  {
   "cell_type": "code",
   "execution_count": 270,
   "metadata": {},
   "outputs": [
    {
     "name": "stdout",
     "output_type": "stream",
     "text": [
      "Area =  0.9373681056814496\n"
     ]
    },
    {
     "data": {
      "image/png": "[encoded data removed]",
      "text/plain": [
       "<Figure size 432x288 with 1 Axes>"
      ]
     },
     "metadata": {
      "needs_background": "light"
     },
     "output_type": "display_data"
    }
   ],
   "source": [
    "Rectangle(0, 3, 12)"
   ]
  },
  {
   "cell_type": "code",
   "execution_count": 271,
   "metadata": {},
   "outputs": [],
   "source": [
    "def Trapezoid(start, end, divisions, graph = 1):\n",
    "    f = lambda x: np.exp(-(x**2))\n",
    "    dx = (end - start)/divisions\n",
    "    xvalues = np.linspace(start, end, divisions)\n",
    "    yvalues = f(xvalues)\n",
    "    \n",
    "    area = []\n",
    "    \n",
    "    for j in range(divisions - 1):\n",
    "        area.append(((yvalues[j] + yvalues[j + 1]) * dx) / 2)\n",
    "        \n",
    "    if graph == 1:\n",
    "        x = np.linspace(start, end, 1000)\n",
    "        y = f(x)\n",
    "        plt.plot(x,y, 'red', lw = 5)\n",
    "        plt.xlim([start,end])\n",
    "        \n",
    "        y2 = np.array([0,0])\n",
    "        \n",
    "        for i in range(divisions):\n",
    "            x0 = xvalues[i:i+2]\n",
    "            y1 = yvalues[i:i+2]\n",
    "            plt.fill_between(x0, y1, y2, where=y1>=y2, facecolor='blue')\n",
    "            plt.title(\"Integral based on Trapezoids\")\n",
    "    print(\"Area = \", sum(area))"
   ]
  },
  {
   "cell_type": "code",
   "execution_count": 272,
   "metadata": {},
   "outputs": [
    {
     "name": "stdout",
     "output_type": "stream",
     "text": [
      "Area =  0.8123526794559388\n"
     ]
    },
    {
     "data": {
      "image/png": "[encoded data removed]",
      "text/plain": [
       "<Figure size 432x288 with 1 Axes>"
      ]
     },
     "metadata": {
      "needs_background": "light"
     },
     "output_type": "display_data"
    }
   ],
   "source": [
    "Trapezoid(0,3,12)"
   ]
  },
  {
   "cell_type": "raw",
   "metadata": {},
   "source": []
  },
  {
   "cell_type": "code",
   "execution_count": 262,
   "metadata": {},
   "outputs": [],
   "source": [
    "def Simpson(start, end, divisions, graph = 1):\n",
    "    if divisions % 2 != 0:\n",
    "        print('Number of intervals must be even!')\n",
    "        return\n",
    "    f = lambda x: np.exp(-(x**2))\n",
    "    dx = (end - start) / divisions\n",
    "    xvalues = np.linspace(start, end, divisions)\n",
    "    yvalues = f(xvalues)\n",
    "    \n",
    "    area = []\n",
    "    \n",
    "    coef = 0\n",
    "    \n",
    "    for j in range(divisions):\n",
    "        if j == 0 or j == divisions:\n",
    "            area.append(1/3 * yvalues[j]* dx)\n",
    "        elif j % 2 == 1:\n",
    "            area.append(4/3 * yvalues[j]* dx)\n",
    "        else:\n",
    "            area.append(2/3 * yvalues[j]* dx)\n",
    "            \n",
    "            \n",
    "    if graph == 1:\n",
    "        \n",
    "        x = np.linspace(start, end, 1000)\n",
    "        y = f(x)\n",
    "        \n",
    "        plt.plot(x, y, 'red', lw = 5)\n",
    "        plt.fill_between(x, f(x))\n",
    "        plt.xlim([start, end])\n",
    "        plt.ylim([min(y), max(y)])\n",
    "        plt.title(\"Integral based on Simpson's rule\")\n",
    "        \n",
    "    print(\"Area = \", sum(area))"
   ]
  },
  {
   "cell_type": "code",
   "execution_count": 273,
   "metadata": {},
   "outputs": [
    {
     "name": "stdout",
     "output_type": "stream",
     "text": [
      "Area =  0.8123697096354332\n"
     ]
    },
    {
     "data": {
      "image/png": "[encoded data removed]",
      "text/plain": [
       "<Figure size 432x288 with 1 Axes>"
      ]
     },
     "metadata": {
      "needs_background": "light"
     },
     "output_type": "display_data"
    }
   ],
   "source": [
    "Simpson(0, 3, 12)"
   ]
  },
  {
   "cell_type": "code",
   "execution_count": null,
   "metadata": {},
   "outputs": [],
   "source": []
  },
  {
   "cell_type": "markdown",
   "metadata": {},
   "source": [
    "compare(0,3,10)"
   ]
  },
  {
   "cell_type": "markdown",
   "metadata": {},
   "source": [
    "compare(0, 3, 10)"
   ]
  },
  {
   "cell_type": "code",
   "execution_count": null,
   "metadata": {},
   "outputs": [],
   "source": []
  },
  {
   "cell_type": "code",
   "execution_count": null,
   "metadata": {},
   "outputs": [],
   "source": []
  },
  {
   "cell_type": "code",
   "execution_count": null,
   "metadata": {},
   "outputs": [],
   "source": []
  }
 ],
 "metadata": {
  "kernelspec": {
   "display_name": "Python 3",
   "language": "python",
   "name": "python3"
  },
  "language_info": {
   "codemirror_mode": {
    "name": "ipython",
    "version": 3
   },
   "file_extension": ".py",
   "mimetype": "text/x-python",
   "name": "python",
   "nbconvert_exporter": "python",
   "pygments_lexer": "ipython3",
   "version": "3.6.6"
  }
 },
 "nbformat": 4,
 "nbformat_minor": 2
}
