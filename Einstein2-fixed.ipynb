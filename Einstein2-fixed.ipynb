{
 "cells": [
  {
   "cell_type": "code",
   "execution_count": 83,
   "metadata": {},
   "outputs": [],
   "source": [
    "import matplotlib.pyplot as pt\n",
    "from math import log, exp\n",
    "import numpy as np\n",
    "\n",
    "#A function that finds the facgorial of the number entered into the parameters\n",
    "def factorial(num):\n",
    "    fact = 1                  #Initialize the factorial variable\n",
    "    for i in range(2, num+1): #Multiplies fact by the numbers 1 through the number entered mius one\n",
    "        fact *= i\n",
    "    \n",
    "    \n",
    "    return fact                #Outputs fact as the ending factorial"
   ]
  },
  {
   "cell_type": "code",
   "execution_count": 84,
   "metadata": {},
   "outputs": [],
   "source": [
    "#Calculates the individual omega values, then multiplies them together\n",
    "\n",
    "def omega_generator(Na, Nb):\n",
    "    q = 100\n",
    "    A = exp(log(factorial(q + Na - 1)) - log((factorial(q) * factorial(Na - 1))))\n",
    "    B = exp(log(factorial(q + Nb - 1)) - log((factorial(q) * factorial(Nb - 1))))\n",
    "    \n",
    "    return A * B      #Returns the omegas multpilied together"
   ]
  },
  {
   "cell_type": "code",
   "execution_count": 90,
   "metadata": {},
   "outputs": [],
   "source": [
    "#Creates a list of omega values\n",
    "\n",
    "def omega_list(res):\n",
    "    list = []\n",
    "    for i in range(res):\n",
    "        list.append(omega_generator(i,res - i))\n",
    "    return list"
   ]
  },
  {
   "cell_type": "code",
   "execution_count": 107,
   "metadata": {},
   "outputs": [
    {
     "name": "stdout",
     "output_type": "stream",
     "text": [
      "Enter N value: 2000\n"
     ]
    },
    {
     "data": {
      "text/plain": [
       "[<matplotlib.lines.Line2D at 0x7f8202254dd8>]"
      ]
     },
     "execution_count": 107,
     "metadata": {},
     "output_type": "execute_result"
    },
    {
     "data": {
      "image/png": "[encoded data removed]",
      "text/plain": [
       "<Figure size 432x288 with 1 Axes>"
      ]
     },
     "metadata": {},
     "output_type": "display_data"
    }
   ],
   "source": [
    "#Builds a plot based on the list of omega values\n",
    "\n",
    "size = int(input(\"Enter N value: \"))\n",
    "\n",
    "length = range(size)\n",
    "list = omega_list(size)\n",
    "x = np.array(length)\n",
    "y = np.array(list)\n",
    "pt.title(\"Omega vs N\")\n",
    "pt.xlabel(\"N\")\n",
    "pt.ylabel('$\\Omega(n)$')\n",
    "\n",
    "pt.plot(x, y, '-r')"
   ]
  },
  {
   "cell_type": "code",
   "execution_count": null,
   "metadata": {},
   "outputs": [],
   "source": []
  }
 ],
 "metadata": {
  "kernelspec": {
   "display_name": "Python 3",
   "language": "python",
   "name": "python3"
  },
  "language_info": {
   "codemirror_mode": {
    "name": "ipython",
    "version": 3
   },
   "file_extension": ".py",
   "mimetype": "text/x-python",
   "name": "python",
   "nbconvert_exporter": "python",
   "pygments_lexer": "ipython3",
   "version": "3.6.5"
  }
 },
 "nbformat": 4,
 "nbformat_minor": 2
}
